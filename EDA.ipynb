{
 "cells": [
  {
   "cell_type": "code",
   "execution_count": null,
   "id": "714de72a-33eb-4b36-ae27-1ab6fee2ffd7",
   "metadata": {},
   "outputs": [],
   "source": []
  },
  {
   "cell_type": "markdown",
   "id": "a19a6b1b-fb05-4049-bc57-2adcb04ca97a",
   "metadata": {},
   "source": [
    "The popularity of Airbnb as a platform for short-term rentals has reshaped the travel and tourism industry, offering travelers a range of accommodations across diverse locations. In this exploratory data analysis (EDA) project, we focus on Airbnb listings in San Diego, California, a major tourist destination known for its beautiful beaches, vibrant neighborhoods, and year-round favorable weather.\n",
    "\n",
    "This dataset, provided by Inside Airbnb and extracted on June 24, 2024, contains detailed information on Airbnb listings in San Diego, including property types, pricing, host details, location, amenities, and ratings. Our primary goal is to explore trends in property availability and pricing and to analyze factors that may impact a listing’s popularity and rental price."
   ]
  },
  {
   "cell_type": "markdown",
   "id": "dc24361d-3021-4b91-a69c-1de635348062",
   "metadata": {},
   "source": [
    "In this EDA, we aim to answer key questions, including:\n",
    "\n",
    "What are the average prices across different neighborhoods and property types in San Diego?\n",
    "\n",
    "How does location influence pricing and demand?\n",
    "\n",
    "What types of properties are most popular among Airbnb guests?\n",
    "\n",
    "What is the relationship between ratings, reviews, and listing popularity?\n",
    "\n",
    "By examining these aspects, we can gain insights into the rental landscape of San Diego, helping hosts, travelers, and researchers understand the dynamics of the local Airbnb market."
   ]
  },
  {
   "cell_type": "code",
   "execution_count": 4,
   "id": "8c6f83e0-3fa3-4099-81a8-4852d0d4f784",
   "metadata": {},
   "outputs": [],
   "source": [
    "import pandas as pd\n",
    "from matplotlib import pyplot as plt\n",
    "import seaborn as sns"
   ]
  },
  {
   "cell_type": "code",
   "execution_count": null,
   "id": "c82defec-2b40-44c9-aa99-66feabcfc020",
   "metadata": {},
   "outputs": [],
   "source": []
  }
 ],
 "metadata": {
  "kernelspec": {
   "display_name": "Python 3 (ipykernel)",
   "language": "python",
   "name": "python3"
  },
  "language_info": {
   "codemirror_mode": {
    "name": "ipython",
    "version": 3
   },
   "file_extension": ".py",
   "mimetype": "text/x-python",
   "name": "python",
   "nbconvert_exporter": "python",
   "pygments_lexer": "ipython3",
   "version": "3.12.4"
  }
 },
 "nbformat": 4,
 "nbformat_minor": 5
}
